{
  "nbformat": 4,
  "nbformat_minor": 0,
  "metadata": {
    "colab": {
      "provenance": []
    },
    "kernelspec": {
      "name": "python3",
      "display_name": "Python 3"
    },
    "language_info": {
      "name": "python"
    }
  },
  "cells": [
    {
      "cell_type": "code",
      "execution_count": 6,
      "metadata": {
        "id": "KTCXIbmXrnvg",
        "colab": {
          "base_uri": "https://localhost:8080/"
        },
        "outputId": "c30763bc-a708-4471-ddd5-657b3f791ac4"
      },
      "outputs": [
        {
          "output_type": "stream",
          "name": "stdout",
          "text": [
            "True\n"
          ]
        }
      ],
      "source": [
        "#1. Given an array, check if it contains any duplicates or not.\n",
        "def check_duplicate(arr):\n",
        "  if len(arr) <= 1:\n",
        "    return True\n",
        "  else:\n",
        "    for i in range(0, len(arr)-1):\n",
        "      for j in range(i+1, len(arr)):\n",
        "        if arr[i] == arr[j]:\n",
        "          return False\n",
        "\n",
        "    return True\n",
        "#driver code\n",
        "arr = [3, 5, 2, 8, 6, 9, 10, 1]\n",
        "result = check_duplicate(arr)\n",
        "print(result)"
      ]
    },
    {
      "cell_type": "code",
      "source": [
        "#2. Given an array and an integer k, rotate the array to the right by k steps.\n",
        "def rotate_array(arr, k):\n",
        "  temp = list(range(len(arr)))\n",
        "  for i in range(0, len(arr)):\n",
        "    temp[(i+k)%len(arr)] = arr[i]\n",
        "\n",
        "  arr = temp\n",
        "  return arr\n",
        "\n",
        "#driver code\n",
        "arr = [1, 2, 3, 4, 5, 6, 7]\n",
        "k = 3\n",
        "result = rotate_array(arr, k)\n",
        "print(result)"
      ],
      "metadata": {
        "colab": {
          "base_uri": "https://localhost:8080/"
        },
        "id": "jw8U4EkCtavO",
        "outputId": "b3c13321-61e0-42b7-e606-c2d7b9ae721a"
      },
      "execution_count": 8,
      "outputs": [
        {
          "output_type": "stream",
          "name": "stdout",
          "text": [
            "[5, 6, 7, 1, 2, 3, 4]\n"
          ]
        }
      ]
    },
    {
      "cell_type": "code",
      "source": [
        "#3. Reverse the given array in-place, means without using any extra data structure.\n",
        "def reverse_array(arr):\n",
        "  start = 0\n",
        "  end = len(arr)-1\n",
        "  while start <= end:\n",
        "    temp = arr[start]\n",
        "    arr[start] = arr[end]\n",
        "    arr[end] = temp\n",
        "    start = start +1\n",
        "    end = end - 1\n",
        "\n",
        "  return arr\n",
        "\n",
        "#driver code\n",
        "arr = [1, 2, 3, 4, 5, 6, 7]\n",
        "result = reverse_array(arr)\n",
        "print(result)"
      ],
      "metadata": {
        "colab": {
          "base_uri": "https://localhost:8080/"
        },
        "id": "UJIA9905v_Cn",
        "outputId": "48bd017d-8fbd-4815-b94d-5dd0c33e0aa2"
      },
      "execution_count": 14,
      "outputs": [
        {
          "output_type": "stream",
          "name": "stdout",
          "text": [
            "[7, 6, 5, 4, 3, 2, 1]\n"
          ]
        }
      ]
    },
    {
      "cell_type": "code",
      "source": [
        "#4. Given an array of integers, find the maximum element in an array\n",
        "def find_largest(arr):\n",
        "  largest = arr[0]\n",
        "  for i in range(1, len(arr)):\n",
        "    if largest < arr[i]:\n",
        "      largest = arr[i]\n",
        "\n",
        "  return largest\n",
        "\n",
        "#driver code\n",
        "arr = [10, 20, 50, 15, 55]\n",
        "result = find_largest(arr)\n",
        "print(\"the largest element in the array is: \", result)"
      ],
      "metadata": {
        "colab": {
          "base_uri": "https://localhost:8080/"
        },
        "id": "T4cjSrWgyZvO",
        "outputId": "d99d9af1-181d-4979-b841-51d8f10ff75b"
      },
      "execution_count": 17,
      "outputs": [
        {
          "output_type": "stream",
          "name": "stdout",
          "text": [
            "the largest element in the array is:  55\n"
          ]
        }
      ]
    },
    {
      "cell_type": "code",
      "source": [
        "#Given a sorted array, remove the duplicate element without using any extra data structure.\n",
        "def remove_duplicate(arr):\n",
        "  temp = []\n",
        "  for i in range(0, len(arr)-1):\n",
        "    if arr[i] != arr[i+1]:\n",
        "      temp.append(arr[i])\n",
        "  temp.append(arr[len(arr)-1])\n",
        "  arr = temp\n",
        "  return arr\n",
        "\n",
        "#driver code\n",
        "arr = [1, 1, 1, 1, 2, 2, 3, 3, 3, 4, 4, 4, 5, 5, 6]\n",
        "result = remove_duplicate(arr)\n",
        "print(result)"
      ],
      "metadata": {
        "colab": {
          "base_uri": "https://localhost:8080/"
        },
        "id": "wX5Wb7Ly0hG-",
        "outputId": "f38e551e-d54e-405e-d6e9-a6660e50ec68"
      },
      "execution_count": 24,
      "outputs": [
        {
          "output_type": "stream",
          "name": "stdout",
          "text": [
            "[1, 2, 3, 4, 5, 6]\n"
          ]
        }
      ]
    },
    {
      "cell_type": "code",
      "source": [],
      "metadata": {
        "id": "Rz25uevK6eGK"
      },
      "execution_count": null,
      "outputs": []
    }
  ]
}